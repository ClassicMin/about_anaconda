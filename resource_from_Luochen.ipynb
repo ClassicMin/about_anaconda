{
 "cells": [
  {
   "cell_type": "markdown",
   "metadata": {},
   "source": [
    "#第26期文本数据处理资源列表\n",
    "这些资源是罗老师课前分享给大家的，稍作了整理分享给群里的同学们，也是一个Markdown的练习吧。搬好板凳，等开讲了。\n",
    "\n",
    "##软件下载\n",
    "首先，下载上课需要用到的软件，选择适合自己电脑的版本  \n",
    "https://www.continuum.io/downloads  \n",
    "Anaconda2-4.1.1-Windows-x86_64（这是我选的）    \n",
    ">如果出现安装问题请上Google或者Stack OverFlow搜索解决  \n",
    ">From 罗晨\n",
    "\n"
   ]
  },
  {
   "cell_type": "markdown",
   "metadata": {},
   "source": [
    "##学习资源\n",
    "###Python基础知识相关部分  \n",
    "1.Python入门 （视频+虚拟环境）  \n",
    "http://www.imooc.com/view/177  \n",
    "慕课 \n",
    "廖雪峰移动开发工程师\n",
    "课程须知\n",
    "如果您了解程序设计的基本概念，会简单使用命令行，了解中学数学函数的概念，那么对课程学习会有很大的帮助，让您学起来得心应手，快速进入Python世界。\n",
    "老师告诉你能学到什么？\n",
    "通过本课程的学习，您将学会搭建基本的Python开发环境，以函数为基础编写完整的Python代码，熟练掌握Python的基本数据类型以及list和dict的操作。\n",
    "> 这个是我见过的比较详细的面向初学者的课程，比较易学易懂。  \n",
    " 特点：  \n",
    " * 它有为初学者搭建“脚手架”，布置的编程任务，会编好一些部分，也是对思路的提示，让你填入关键点，就是这节课需要掌握的知识点    \n",
    " * 课程分割成比较小的“块”，不容易疲乏  \n",
    "\n",
    "2.Beginning Python 《Python基础教程》（有电子书，打开链接之后，实际名称是_A Byte Of Python_）    \n",
    "http://book.douban.com/subject/5948760/   \n",
    "'A Byte of Python' is a book on programming using the Python language. It serves as a tutorial or guide to the Python language for a beginner audience. If all you know about computers is how to save text files, then this is the book for you.\n",
    "[附件:A Byte Of Python_120 (Python2.x).pdf]\n",
    "\n",
    "3.python进阶（简书）  \n",
    "https://eastlakeside.gitbooks.io/interpy-zh/content/翻译  \n",
    "https://github.com/yasoob/intermediatePython英文版  \n",
    "\n",
    "4._Python循环中的else语句_  \n",
    "http://oldj.net/article/python-loop-else/\n",
    ">这是一篇关于语法（循环、条件）的小文  \n",
    "\n",
    "5.Python 在编程语言中是什么地位？为什么很多大学不教 Python？  \n",
    "https://www.zhihu.com/question/19794709\n",
    ">这是知乎关于在大学里开什么语言课程的一个讨论，可以让我们在一个语境里理解python，就像在一个雨林里去认识一个物种和周边的生态。\n",
    "\n"
   ]
  },
  {
   "cell_type": "markdown",
   "metadata": {},
   "source": [
    "###数据处理相关部分  \n",
    "1.用Python玩转数据 \n",
    "网络公开课  \n",
    "http://www.icourse163.org/course/nju-1001571005#/info\n",
    "> 这个资源目前不可用，是一个类似慕课的公开课，第一期的学习已经结束了，第二期是9月8日 10:00开课。学完之后有证书的那种，有课堂讨论、随堂测试和课后作业。\n",
    "\n",
    "2.TF-IDF与余弦相似性的应用（一）：自动提取关键词  \n",
    "http://www.ruanyifeng.com/blog/2013/03/tf-idf.html?bsh_bid=205327750\n",
    "> 这个应该是开课后重点分析的一个板块吧，涉及到具体的操作。  \n",
    "\n",
    "3.LDAvis——用R做中文LDA主题模型可视化分析   \n",
    "http://computational-communication.com/2015/12/ldavis/\n",
    "> 这个也应该是开课后会重点分析的案例吧，是数据可视化的话题。"
   ]
  }
 ],
 "metadata": {
  "kernelspec": {
   "display_name": "Python [Root]",
   "language": "python",
   "name": "Python [Root]"
  },
  "language_info": {
   "codemirror_mode": {
    "name": "ipython",
    "version": 2
   },
   "file_extension": ".py",
   "mimetype": "text/x-python",
   "name": "python",
   "nbconvert_exporter": "python",
   "pygments_lexer": "ipython2",
   "version": "2.7.12"
  }
 },
 "nbformat": 4,
 "nbformat_minor": 0
}
